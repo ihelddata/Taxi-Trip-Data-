{
 "cells": [
  {
   "cell_type": "markdown",
   "id": "9b97a603",
   "metadata": {
    "papermill": {
     "duration": 0.01259,
     "end_time": "2024-05-12T17:28:37.999980",
     "exception": false,
     "start_time": "2024-05-12T17:28:37.987390",
     "status": "completed"
    },
    "tags": []
   },
   "source": [
    "# Automatidata project - Statistical review and A/B testing\n"
   ]
  },
  {
   "cell_type": "markdown",
   "id": "eb16a050",
   "metadata": {
    "id": "WVeXS7BNzX6e",
    "papermill": {
     "duration": 0.00893,
     "end_time": "2024-05-12T17:28:38.017786",
     "exception": false,
     "start_time": "2024-05-12T17:28:38.008856",
     "status": "completed"
    },
    "tags": []
   },
   "source": [
    "You are a data professional in a data consulting firm, called Automatidata. The current project for their newest client, the New York City Taxi & Limousine Commission (New York City TLC) is reaching its midpoint, having completed a project proposal, Python coding work, and exploratory data analysis.\n",
    "\n",
    "You receive a new email from Uli King, Automatidata’s project manager. Uli tells your team about a new request from the New York City TLC: to analyze the relationship between fare amount and payment type. You also discover follow-up emails from three other team members: Deshawn Washington, Luana Rodriguez, and Udo Bankole. These emails discuss the details of the analysis. A final email from Luana includes your specific assignment: to conduct an A/B test. \n",
    "\n"
   ]
  },
  {
   "cell_type": "markdown",
   "id": "3010ac7a",
   "metadata": {
    "id": "rgSbVJvomcVa",
    "papermill": {
     "duration": 0.010489,
     "end_time": "2024-05-12T17:28:38.040275",
     "exception": false,
     "start_time": "2024-05-12T17:28:38.029786",
     "status": "completed"
    },
    "tags": []
   },
   "source": [
    "# Statistical review and A/B testing\n",
    "\n",
    "In this activity, you will practice using statistics to analyze and interpret data. The activity covers fundamental concepts such as descriptive statistics and hypothesis testing. You will explore the data provided and conduct A/B and hypothesis testing.  \n",
    "<br/>   \n",
    "\n",
    "**The purpose** of this project is to demostrate knowledge of how to prepare, create, and analyze A/B tests. Your A/B test results should aim to find ways to generate more revenue for taxi cab drivers.\n",
    "\n",
    "**Note:** For the purpose of this exercise, assume that the sample data comes from an experiment in which customers are randomly selected and divided into two groups: 1) customers who are required to pay with credit card, 2) customers who are required to pay with cash. Without this assumption, we cannot draw causal conclusions about how payment method affects fare amount.\n",
    "\n",
    "**The goal** is to apply descriptive statistics and hypothesis testing in Python. The goal for this A/B test is to sample data and analyze whether there is a relationship between payment type and fare amount. For example: discover if customers who use credit cards pay higher fare amounts than customers who use cash.\n",
    "  \n",
    "*This activity has the following parts:*\n",
    "\n",
    "**Part 1:** Imports and data loading\n",
    "* What data packages will be necessary for hypothesis testing?\n",
    "\n",
    "**Part 2:** Conduct EDA and hypothesis testing\n",
    "* How did computing descriptive statistics help you analyze your data? \n",
    "\n",
    "* How did you formulate your null hypothesis and alternative hypothesis? \n",
    "\n",
    "**Part 3:** Communicate insights with stakeholders\n",
    "\n",
    "* What key business insight(s) emerged from your A/B test?\n",
    "\n",
    "* What business recommendations do you propose based on your results?\n",
    "\n"
   ]
  },
  {
   "cell_type": "markdown",
   "id": "87b6c284",
   "metadata": {
    "id": "55zRrnwOelDs",
    "papermill": {
     "duration": 0.009848,
     "end_time": "2024-05-12T17:28:38.060168",
     "exception": false,
     "start_time": "2024-05-12T17:28:38.050320",
     "status": "completed"
    },
    "tags": []
   },
   "source": [
    "# **Conduct an A/B test**"
   ]
  },
  {
   "cell_type": "markdown",
   "id": "0364b209",
   "metadata": {
    "id": "Bb1HNu3FzX6k",
    "papermill": {
     "duration": 0.009008,
     "end_time": "2024-05-12T17:28:38.078459",
     "exception": false,
     "start_time": "2024-05-12T17:28:38.069451",
     "status": "completed"
    },
    "tags": []
   },
   "source": [
    "## PACE: **Plan**\n",
    "\n",
    "In this stage, consider the following questions where applicable to complete your code response:\n",
    "1. What is your research question for this data project? Later on, you will need to formulate the null and alternative hypotheses as the first step of your hypothesis test. Consider your research question now, at the start of this task.\n"
   ]
  },
  {
   "cell_type": "markdown",
   "id": "b900c69c",
   "metadata": {
    "id": "F6_h60RuXQIz",
    "papermill": {
     "duration": 0.008428,
     "end_time": "2024-05-12T17:28:38.095882",
     "exception": false,
     "start_time": "2024-05-12T17:28:38.087454",
     "status": "completed"
    },
    "tags": []
   },
   "source": [
    "**The research question for this data project: “Is there a relationship between total fare amount and payment type?”**"
   ]
  },
  {
   "cell_type": "markdown",
   "id": "fbf6767f",
   "metadata": {
    "id": "xgQEdIN7f1Jq",
    "papermill": {
     "duration": 0.008356,
     "end_time": "2024-05-12T17:28:38.113152",
     "exception": false,
     "start_time": "2024-05-12T17:28:38.104796",
     "status": "completed"
    },
    "tags": []
   },
   "source": [
    "### Task 1. Imports and data loading"
   ]
  },
  {
   "cell_type": "markdown",
   "id": "fcd84dca",
   "metadata": {
    "id": "ehehvUzFj0-e",
    "papermill": {
     "duration": 0.008954,
     "end_time": "2024-05-12T17:28:38.130842",
     "exception": false,
     "start_time": "2024-05-12T17:28:38.121888",
     "status": "completed"
    },
    "tags": []
   },
   "source": [
    "Import packages and libraries needed to compute descriptive statistics and conduct a hypothesis test."
   ]
  },
  {
   "cell_type": "markdown",
   "id": "5b4dd0ba",
   "metadata": {
    "id": "e6cryW4WgiIL",
    "papermill": {
     "duration": 0.008588,
     "end_time": "2024-05-12T17:28:38.148877",
     "exception": false,
     "start_time": "2024-05-12T17:28:38.140289",
     "status": "completed"
    },
    "tags": []
   },
   "source": [
    "Before we begin, recall the following Python packages and functions that may be useful:\n",
    "\n",
    "*Main functions*: stats.ttest_ind(a, b, equal_var)\n",
    "\n",
    "*Other functions*: mean() \n",
    "\n",
    "*Packages*: pandas, stats.scipy\n",
    "\n",
    "</details>"
   ]
  },
  {
   "cell_type": "code",
   "execution_count": 1,
   "id": "f32f15eb",
   "metadata": {
    "execution": {
     "iopub.execute_input": "2024-05-12T17:28:38.170188Z",
     "iopub.status.busy": "2024-05-12T17:28:38.169695Z",
     "iopub.status.idle": "2024-05-12T17:28:40.528184Z",
     "shell.execute_reply": "2024-05-12T17:28:40.526761Z"
    },
    "id": "1Q-GL2UrgWWG",
    "papermill": {
     "duration": 2.371867,
     "end_time": "2024-05-12T17:28:40.530912",
     "exception": false,
     "start_time": "2024-05-12T17:28:38.159045",
     "status": "completed"
    },
    "tags": []
   },
   "outputs": [
    {
     "name": "stdout",
     "output_type": "stream",
     "text": [
      "/kaggle/input/yellow-taxi-trip-data-2017/C2_2017_Yellow_Taxi_Trip_Data.csv\n"
     ]
    }
   ],
   "source": [
    "import pandas as pd\n",
    "from scipy import stats\n",
    "\n",
    "import os\n",
    "for dirname, _, filenames in os.walk('/kaggle/input'):\n",
    "    for filename in filenames:\n",
    "        print(os.path.join(dirname, filename))"
   ]
  },
  {
   "cell_type": "markdown",
   "id": "4fc05ed8",
   "metadata": {
    "id": "stMe9uT3kOmF",
    "papermill": {
     "duration": 0.009209,
     "end_time": "2024-05-12T17:28:40.549738",
     "exception": false,
     "start_time": "2024-05-12T17:28:40.540529",
     "status": "completed"
    },
    "tags": []
   },
   "source": [
    "**Note:** As shown in this cell, the dataset has been automatically loaded in for you. You do not need to download the .csv file, or provide more code, in order to access the dataset and proceed with this lab. Please continue with this activity by completing the following instructions."
   ]
  },
  {
   "cell_type": "code",
   "execution_count": 2,
   "id": "c98ca790",
   "metadata": {
    "execution": {
     "iopub.execute_input": "2024-05-12T17:28:40.570102Z",
     "iopub.status.busy": "2024-05-12T17:28:40.569514Z",
     "iopub.status.idle": "2024-05-12T17:28:40.737654Z",
     "shell.execute_reply": "2024-05-12T17:28:40.736085Z"
    },
    "id": "2qAt6Upaeg6U",
    "papermill": {
     "duration": 0.182092,
     "end_time": "2024-05-12T17:28:40.740677",
     "exception": false,
     "start_time": "2024-05-12T17:28:40.558585",
     "status": "completed"
    },
    "tags": []
   },
   "outputs": [],
   "source": [
    "taxi_data = pd.read_csv(\"/kaggle/input/yellow-taxi-trip-data-2017/C2_2017_Yellow_Taxi_Trip_Data.csv\", index_col = 0)"
   ]
  },
  {
   "cell_type": "markdown",
   "id": "27dfae2f",
   "metadata": {
    "id": "c8paWsdKzX6o",
    "papermill": {
     "duration": 0.008879,
     "end_time": "2024-05-12T17:28:40.759090",
     "exception": false,
     "start_time": "2024-05-12T17:28:40.750211",
     "status": "completed"
    },
    "tags": []
   },
   "source": [
    "## PACE: **Analyze and Construct**\n",
    "\n",
    "In this stage, consider the following questions where applicable to complete your code response:\n",
    "1. Data professionals use descriptive statistics for Exploratory Data Analysis. How can computing descriptive statistics help you learn more about your data in this stage of your analysis?\n"
   ]
  },
  {
   "cell_type": "markdown",
   "id": "eccce10e",
   "metadata": {
    "id": "rX5xJnWUXxsW",
    "papermill": {
     "duration": 0.008987,
     "end_time": "2024-05-12T17:28:40.776862",
     "exception": false,
     "start_time": "2024-05-12T17:28:40.767875",
     "status": "completed"
    },
    "tags": []
   },
   "source": [
    "In general, descriptive statistics are useful because they let you quickly explore and understand large amounts of data. In this case, computing descriptive statistics helps you quickly compare the average total fare amount among different payment types.\n"
   ]
  },
  {
   "cell_type": "markdown",
   "id": "ad2d58ed",
   "metadata": {
    "id": "UKhYTdVhf5B2",
    "papermill": {
     "duration": 0.008814,
     "end_time": "2024-05-12T17:28:40.795040",
     "exception": false,
     "start_time": "2024-05-12T17:28:40.786226",
     "status": "completed"
    },
    "tags": []
   },
   "source": [
    "### Task 2. Data exploration\n",
    "\n",
    "Use descriptive statistics to conduct Exploratory Data Analysis (EDA)."
   ]
  },
  {
   "cell_type": "markdown",
   "id": "d56eebec",
   "metadata": {
    "id": "JAq7ag0pTNgl",
    "papermill": {
     "duration": 0.008737,
     "end_time": "2024-05-12T17:28:40.812637",
     "exception": false,
     "start_time": "2024-05-12T17:28:40.803900",
     "status": "completed"
    },
    "tags": []
   },
   "source": [
    "**Note:** In the dataset, `payment_type` is encoded in integers:\n",
    "*   1: Credit card\n",
    "*   2: Cash\n",
    "*   3: No charge\n",
    "*   4: Dispute\n",
    "*   5: Unknown\n",
    "\n"
   ]
  },
  {
   "cell_type": "code",
   "execution_count": 3,
   "id": "d37f99d2",
   "metadata": {
    "execution": {
     "iopub.execute_input": "2024-05-12T17:28:40.832654Z",
     "iopub.status.busy": "2024-05-12T17:28:40.832216Z",
     "iopub.status.idle": "2024-05-12T17:28:40.972746Z",
     "shell.execute_reply": "2024-05-12T17:28:40.971372Z"
    },
    "id": "70vpvcv1gArp",
    "papermill": {
     "duration": 0.153819,
     "end_time": "2024-05-12T17:28:40.975410",
     "exception": false,
     "start_time": "2024-05-12T17:28:40.821591",
     "status": "completed"
    },
    "tags": []
   },
   "outputs": [
    {
     "data": {
      "text/html": [
       "<div>\n",
       "<style scoped>\n",
       "    .dataframe tbody tr th:only-of-type {\n",
       "        vertical-align: middle;\n",
       "    }\n",
       "\n",
       "    .dataframe tbody tr th {\n",
       "        vertical-align: top;\n",
       "    }\n",
       "\n",
       "    .dataframe thead th {\n",
       "        text-align: right;\n",
       "    }\n",
       "</style>\n",
       "<table border=\"1\" class=\"dataframe\">\n",
       "  <thead>\n",
       "    <tr style=\"text-align: right;\">\n",
       "      <th></th>\n",
       "      <th>VendorID</th>\n",
       "      <th>tpep_pickup_datetime</th>\n",
       "      <th>tpep_dropoff_datetime</th>\n",
       "      <th>passenger_count</th>\n",
       "      <th>trip_distance</th>\n",
       "      <th>RatecodeID</th>\n",
       "      <th>store_and_fwd_flag</th>\n",
       "      <th>PULocationID</th>\n",
       "      <th>DOLocationID</th>\n",
       "      <th>payment_type</th>\n",
       "      <th>fare_amount</th>\n",
       "      <th>extra</th>\n",
       "      <th>mta_tax</th>\n",
       "      <th>tip_amount</th>\n",
       "      <th>tolls_amount</th>\n",
       "      <th>improvement_surcharge</th>\n",
       "      <th>total_amount</th>\n",
       "    </tr>\n",
       "  </thead>\n",
       "  <tbody>\n",
       "    <tr>\n",
       "      <th>count</th>\n",
       "      <td>22699.000000</td>\n",
       "      <td>22699</td>\n",
       "      <td>22699</td>\n",
       "      <td>22699.000000</td>\n",
       "      <td>22699.000000</td>\n",
       "      <td>22699.000000</td>\n",
       "      <td>22699</td>\n",
       "      <td>22699.000000</td>\n",
       "      <td>22699.000000</td>\n",
       "      <td>22699.000000</td>\n",
       "      <td>22699.000000</td>\n",
       "      <td>22699.000000</td>\n",
       "      <td>22699.000000</td>\n",
       "      <td>22699.000000</td>\n",
       "      <td>22699.000000</td>\n",
       "      <td>22699.000000</td>\n",
       "      <td>22699.000000</td>\n",
       "    </tr>\n",
       "    <tr>\n",
       "      <th>unique</th>\n",
       "      <td>NaN</td>\n",
       "      <td>22687</td>\n",
       "      <td>22688</td>\n",
       "      <td>NaN</td>\n",
       "      <td>NaN</td>\n",
       "      <td>NaN</td>\n",
       "      <td>2</td>\n",
       "      <td>NaN</td>\n",
       "      <td>NaN</td>\n",
       "      <td>NaN</td>\n",
       "      <td>NaN</td>\n",
       "      <td>NaN</td>\n",
       "      <td>NaN</td>\n",
       "      <td>NaN</td>\n",
       "      <td>NaN</td>\n",
       "      <td>NaN</td>\n",
       "      <td>NaN</td>\n",
       "    </tr>\n",
       "    <tr>\n",
       "      <th>top</th>\n",
       "      <td>NaN</td>\n",
       "      <td>07/03/2017 3:45:19 PM</td>\n",
       "      <td>10/18/2017 8:07:45 PM</td>\n",
       "      <td>NaN</td>\n",
       "      <td>NaN</td>\n",
       "      <td>NaN</td>\n",
       "      <td>N</td>\n",
       "      <td>NaN</td>\n",
       "      <td>NaN</td>\n",
       "      <td>NaN</td>\n",
       "      <td>NaN</td>\n",
       "      <td>NaN</td>\n",
       "      <td>NaN</td>\n",
       "      <td>NaN</td>\n",
       "      <td>NaN</td>\n",
       "      <td>NaN</td>\n",
       "      <td>NaN</td>\n",
       "    </tr>\n",
       "    <tr>\n",
       "      <th>freq</th>\n",
       "      <td>NaN</td>\n",
       "      <td>2</td>\n",
       "      <td>2</td>\n",
       "      <td>NaN</td>\n",
       "      <td>NaN</td>\n",
       "      <td>NaN</td>\n",
       "      <td>22600</td>\n",
       "      <td>NaN</td>\n",
       "      <td>NaN</td>\n",
       "      <td>NaN</td>\n",
       "      <td>NaN</td>\n",
       "      <td>NaN</td>\n",
       "      <td>NaN</td>\n",
       "      <td>NaN</td>\n",
       "      <td>NaN</td>\n",
       "      <td>NaN</td>\n",
       "      <td>NaN</td>\n",
       "    </tr>\n",
       "    <tr>\n",
       "      <th>mean</th>\n",
       "      <td>1.556236</td>\n",
       "      <td>NaN</td>\n",
       "      <td>NaN</td>\n",
       "      <td>1.642319</td>\n",
       "      <td>2.913313</td>\n",
       "      <td>1.043394</td>\n",
       "      <td>NaN</td>\n",
       "      <td>162.412353</td>\n",
       "      <td>161.527997</td>\n",
       "      <td>1.336887</td>\n",
       "      <td>13.026629</td>\n",
       "      <td>0.333275</td>\n",
       "      <td>0.497445</td>\n",
       "      <td>1.835781</td>\n",
       "      <td>0.312542</td>\n",
       "      <td>0.299551</td>\n",
       "      <td>16.310502</td>\n",
       "    </tr>\n",
       "    <tr>\n",
       "      <th>std</th>\n",
       "      <td>0.496838</td>\n",
       "      <td>NaN</td>\n",
       "      <td>NaN</td>\n",
       "      <td>1.285231</td>\n",
       "      <td>3.653171</td>\n",
       "      <td>0.708391</td>\n",
       "      <td>NaN</td>\n",
       "      <td>66.633373</td>\n",
       "      <td>70.139691</td>\n",
       "      <td>0.496211</td>\n",
       "      <td>13.243791</td>\n",
       "      <td>0.463097</td>\n",
       "      <td>0.039465</td>\n",
       "      <td>2.800626</td>\n",
       "      <td>1.399212</td>\n",
       "      <td>0.015673</td>\n",
       "      <td>16.097295</td>\n",
       "    </tr>\n",
       "    <tr>\n",
       "      <th>min</th>\n",
       "      <td>1.000000</td>\n",
       "      <td>NaN</td>\n",
       "      <td>NaN</td>\n",
       "      <td>0.000000</td>\n",
       "      <td>0.000000</td>\n",
       "      <td>1.000000</td>\n",
       "      <td>NaN</td>\n",
       "      <td>1.000000</td>\n",
       "      <td>1.000000</td>\n",
       "      <td>1.000000</td>\n",
       "      <td>-120.000000</td>\n",
       "      <td>-1.000000</td>\n",
       "      <td>-0.500000</td>\n",
       "      <td>0.000000</td>\n",
       "      <td>0.000000</td>\n",
       "      <td>-0.300000</td>\n",
       "      <td>-120.300000</td>\n",
       "    </tr>\n",
       "    <tr>\n",
       "      <th>25%</th>\n",
       "      <td>1.000000</td>\n",
       "      <td>NaN</td>\n",
       "      <td>NaN</td>\n",
       "      <td>1.000000</td>\n",
       "      <td>0.990000</td>\n",
       "      <td>1.000000</td>\n",
       "      <td>NaN</td>\n",
       "      <td>114.000000</td>\n",
       "      <td>112.000000</td>\n",
       "      <td>1.000000</td>\n",
       "      <td>6.500000</td>\n",
       "      <td>0.000000</td>\n",
       "      <td>0.500000</td>\n",
       "      <td>0.000000</td>\n",
       "      <td>0.000000</td>\n",
       "      <td>0.300000</td>\n",
       "      <td>8.750000</td>\n",
       "    </tr>\n",
       "    <tr>\n",
       "      <th>50%</th>\n",
       "      <td>2.000000</td>\n",
       "      <td>NaN</td>\n",
       "      <td>NaN</td>\n",
       "      <td>1.000000</td>\n",
       "      <td>1.610000</td>\n",
       "      <td>1.000000</td>\n",
       "      <td>NaN</td>\n",
       "      <td>162.000000</td>\n",
       "      <td>162.000000</td>\n",
       "      <td>1.000000</td>\n",
       "      <td>9.500000</td>\n",
       "      <td>0.000000</td>\n",
       "      <td>0.500000</td>\n",
       "      <td>1.350000</td>\n",
       "      <td>0.000000</td>\n",
       "      <td>0.300000</td>\n",
       "      <td>11.800000</td>\n",
       "    </tr>\n",
       "    <tr>\n",
       "      <th>75%</th>\n",
       "      <td>2.000000</td>\n",
       "      <td>NaN</td>\n",
       "      <td>NaN</td>\n",
       "      <td>2.000000</td>\n",
       "      <td>3.060000</td>\n",
       "      <td>1.000000</td>\n",
       "      <td>NaN</td>\n",
       "      <td>233.000000</td>\n",
       "      <td>233.000000</td>\n",
       "      <td>2.000000</td>\n",
       "      <td>14.500000</td>\n",
       "      <td>0.500000</td>\n",
       "      <td>0.500000</td>\n",
       "      <td>2.450000</td>\n",
       "      <td>0.000000</td>\n",
       "      <td>0.300000</td>\n",
       "      <td>17.800000</td>\n",
       "    </tr>\n",
       "    <tr>\n",
       "      <th>max</th>\n",
       "      <td>2.000000</td>\n",
       "      <td>NaN</td>\n",
       "      <td>NaN</td>\n",
       "      <td>6.000000</td>\n",
       "      <td>33.960000</td>\n",
       "      <td>99.000000</td>\n",
       "      <td>NaN</td>\n",
       "      <td>265.000000</td>\n",
       "      <td>265.000000</td>\n",
       "      <td>4.000000</td>\n",
       "      <td>999.990000</td>\n",
       "      <td>4.500000</td>\n",
       "      <td>0.500000</td>\n",
       "      <td>200.000000</td>\n",
       "      <td>19.100000</td>\n",
       "      <td>0.300000</td>\n",
       "      <td>1200.290000</td>\n",
       "    </tr>\n",
       "  </tbody>\n",
       "</table>\n",
       "</div>"
      ],
      "text/plain": [
       "            VendorID   tpep_pickup_datetime  tpep_dropoff_datetime  \\\n",
       "count   22699.000000                  22699                  22699   \n",
       "unique           NaN                  22687                  22688   \n",
       "top              NaN  07/03/2017 3:45:19 PM  10/18/2017 8:07:45 PM   \n",
       "freq             NaN                      2                      2   \n",
       "mean        1.556236                    NaN                    NaN   \n",
       "std         0.496838                    NaN                    NaN   \n",
       "min         1.000000                    NaN                    NaN   \n",
       "25%         1.000000                    NaN                    NaN   \n",
       "50%         2.000000                    NaN                    NaN   \n",
       "75%         2.000000                    NaN                    NaN   \n",
       "max         2.000000                    NaN                    NaN   \n",
       "\n",
       "        passenger_count  trip_distance    RatecodeID store_and_fwd_flag  \\\n",
       "count      22699.000000   22699.000000  22699.000000              22699   \n",
       "unique              NaN            NaN           NaN                  2   \n",
       "top                 NaN            NaN           NaN                  N   \n",
       "freq                NaN            NaN           NaN              22600   \n",
       "mean           1.642319       2.913313      1.043394                NaN   \n",
       "std            1.285231       3.653171      0.708391                NaN   \n",
       "min            0.000000       0.000000      1.000000                NaN   \n",
       "25%            1.000000       0.990000      1.000000                NaN   \n",
       "50%            1.000000       1.610000      1.000000                NaN   \n",
       "75%            2.000000       3.060000      1.000000                NaN   \n",
       "max            6.000000      33.960000     99.000000                NaN   \n",
       "\n",
       "        PULocationID  DOLocationID  payment_type   fare_amount         extra  \\\n",
       "count   22699.000000  22699.000000  22699.000000  22699.000000  22699.000000   \n",
       "unique           NaN           NaN           NaN           NaN           NaN   \n",
       "top              NaN           NaN           NaN           NaN           NaN   \n",
       "freq             NaN           NaN           NaN           NaN           NaN   \n",
       "mean      162.412353    161.527997      1.336887     13.026629      0.333275   \n",
       "std        66.633373     70.139691      0.496211     13.243791      0.463097   \n",
       "min         1.000000      1.000000      1.000000   -120.000000     -1.000000   \n",
       "25%       114.000000    112.000000      1.000000      6.500000      0.000000   \n",
       "50%       162.000000    162.000000      1.000000      9.500000      0.000000   \n",
       "75%       233.000000    233.000000      2.000000     14.500000      0.500000   \n",
       "max       265.000000    265.000000      4.000000    999.990000      4.500000   \n",
       "\n",
       "             mta_tax    tip_amount  tolls_amount  improvement_surcharge  \\\n",
       "count   22699.000000  22699.000000  22699.000000           22699.000000   \n",
       "unique           NaN           NaN           NaN                    NaN   \n",
       "top              NaN           NaN           NaN                    NaN   \n",
       "freq             NaN           NaN           NaN                    NaN   \n",
       "mean        0.497445      1.835781      0.312542               0.299551   \n",
       "std         0.039465      2.800626      1.399212               0.015673   \n",
       "min        -0.500000      0.000000      0.000000              -0.300000   \n",
       "25%         0.500000      0.000000      0.000000               0.300000   \n",
       "50%         0.500000      1.350000      0.000000               0.300000   \n",
       "75%         0.500000      2.450000      0.000000               0.300000   \n",
       "max         0.500000    200.000000     19.100000               0.300000   \n",
       "\n",
       "        total_amount  \n",
       "count   22699.000000  \n",
       "unique           NaN  \n",
       "top              NaN  \n",
       "freq             NaN  \n",
       "mean       16.310502  \n",
       "std        16.097295  \n",
       "min      -120.300000  \n",
       "25%         8.750000  \n",
       "50%        11.800000  \n",
       "75%        17.800000  \n",
       "max      1200.290000  "
      ]
     },
     "execution_count": 3,
     "metadata": {},
     "output_type": "execute_result"
    }
   ],
   "source": [
    "# descriptive stats code for EDA\n",
    "taxi_data.describe(include='all')"
   ]
  },
  {
   "cell_type": "markdown",
   "id": "d8ac22de",
   "metadata": {
    "id": "-fFiNg4hdGBK",
    "papermill": {
     "duration": 0.009199,
     "end_time": "2024-05-12T17:28:40.994348",
     "exception": false,
     "start_time": "2024-05-12T17:28:40.985149",
     "status": "completed"
    },
    "tags": []
   },
   "source": [
    "You are interested in the relationship between payment type and the fare amount the customer pays. One approach is to look at the average fare amount for each payment type. "
   ]
  },
  {
   "cell_type": "code",
   "execution_count": 4,
   "id": "5691479e",
   "metadata": {
    "execution": {
     "iopub.execute_input": "2024-05-12T17:28:41.016209Z",
     "iopub.status.busy": "2024-05-12T17:28:41.015608Z",
     "iopub.status.idle": "2024-05-12T17:28:41.029041Z",
     "shell.execute_reply": "2024-05-12T17:28:41.027689Z"
    },
    "id": "2LGEWrdVXgI2",
    "papermill": {
     "duration": 0.027071,
     "end_time": "2024-05-12T17:28:41.031675",
     "exception": false,
     "start_time": "2024-05-12T17:28:41.004604",
     "status": "completed"
    },
    "tags": []
   },
   "outputs": [
    {
     "data": {
      "text/plain": [
       "payment_type\n",
       "1    13.429748\n",
       "2    12.213546\n",
       "3    12.186116\n",
       "4     9.913043\n",
       "Name: fare_amount, dtype: float64"
      ]
     },
     "execution_count": 4,
     "metadata": {},
     "output_type": "execute_result"
    }
   ],
   "source": [
    "taxi_data.groupby('payment_type')['fare_amount'].mean()"
   ]
  },
  {
   "cell_type": "markdown",
   "id": "3635ba2c",
   "metadata": {
    "id": "Z_u-zWvGdfII",
    "papermill": {
     "duration": 0.009476,
     "end_time": "2024-05-12T17:28:41.050888",
     "exception": false,
     "start_time": "2024-05-12T17:28:41.041412",
     "status": "completed"
    },
    "tags": []
   },
   "source": [
    "Based on the averages shown, it appears that customers who pay in credit card tend to pay a larger fare amount than customers who pay in cash. However, this difference might arise from random sampling, rather than being a true difference in fare amount. To assess whether the difference is statistically significant, you conduct a hypothesis test."
   ]
  },
  {
   "cell_type": "markdown",
   "id": "e27495f8",
   "metadata": {
    "id": "QpFRQDaNzX6p",
    "papermill": {
     "duration": 0.009367,
     "end_time": "2024-05-12T17:28:41.071246",
     "exception": false,
     "start_time": "2024-05-12T17:28:41.061879",
     "status": "completed"
    },
    "tags": []
   },
   "source": [
    "\n",
    "### Task 3. Hypothesis testing\n",
    "\n",
    "Before you conduct your hypothesis test, consider the following questions where applicable to complete your code response:\n",
    "\n",
    "1. Recall the difference between the null hypothesis and the alternative hypotheses. What are your hypotheses for this data project?"
   ]
  },
  {
   "cell_type": "markdown",
   "id": "ed307d83",
   "metadata": {
    "id": "SkDeGggZYM84",
    "papermill": {
     "duration": 0.009349,
     "end_time": "2024-05-12T17:28:41.090265",
     "exception": false,
     "start_time": "2024-05-12T17:28:41.080916",
     "status": "completed"
    },
    "tags": []
   },
   "source": [
    "**Null hypothesis**: There is no difference in average fare between customers who use credit cards and customers who use cash. \n",
    "\n",
    "**Alternative hypothesis**: There is a difference in average fare between customers who use credit cards and customers who use cash."
   ]
  },
  {
   "cell_type": "markdown",
   "id": "b5072f2d",
   "metadata": {
    "id": "7Mn5GJ460HUS",
    "papermill": {
     "duration": 0.009317,
     "end_time": "2024-05-12T17:28:41.109205",
     "exception": false,
     "start_time": "2024-05-12T17:28:41.099888",
     "status": "completed"
    },
    "tags": []
   },
   "source": [
    "\n",
    "\n",
    "Your goal in this step is to conduct a two-sample t-test. Recall the steps for conducting a hypothesis test: \n",
    "\n",
    "\n",
    "1.   State the null hypothesis and the alternative hypothesis\n",
    "2.   Choose a significance level\n",
    "3.   Find the p-value\n",
    "4.   Reject or fail to reject the null hypothesis \n",
    "\n"
   ]
  },
  {
   "cell_type": "markdown",
   "id": "e4653212",
   "metadata": {
    "id": "leLgy_x_hKgA",
    "papermill": {
     "duration": 0.009391,
     "end_time": "2024-05-12T17:28:41.128520",
     "exception": false,
     "start_time": "2024-05-12T17:28:41.119129",
     "status": "completed"
    },
    "tags": []
   },
   "source": [
    "**Note:** For the purpose of this exercise, your hypothesis test is the main component of your A/B test. "
   ]
  },
  {
   "cell_type": "markdown",
   "id": "65ed6f3e",
   "metadata": {
    "id": "phXxr74vVPrs",
    "papermill": {
     "duration": 0.00994,
     "end_time": "2024-05-12T17:28:41.148032",
     "exception": false,
     "start_time": "2024-05-12T17:28:41.138092",
     "status": "completed"
    },
    "tags": []
   },
   "source": [
    "$H_0$: There is no difference in the average fare amount between customers who use credit cards and customers who use cash.\n",
    "\n",
    "$H_A$: There is a difference in the average fare amount between customers who use credit cards and customers who use cash."
   ]
  },
  {
   "cell_type": "markdown",
   "id": "b2ea09af",
   "metadata": {
    "id": "IVHpnfvNeTUA",
    "papermill": {
     "duration": 0.010493,
     "end_time": "2024-05-12T17:28:41.169560",
     "exception": false,
     "start_time": "2024-05-12T17:28:41.159067",
     "status": "completed"
    },
    "tags": []
   },
   "source": [
    "You choose 5% as the significance level and proceed with a two-sample t-test."
   ]
  },
  {
   "cell_type": "code",
   "execution_count": 5,
   "id": "76e970df",
   "metadata": {
    "execution": {
     "iopub.execute_input": "2024-05-12T17:28:41.191560Z",
     "iopub.status.busy": "2024-05-12T17:28:41.191101Z",
     "iopub.status.idle": "2024-05-12T17:28:41.211856Z",
     "shell.execute_reply": "2024-05-12T17:28:41.210516Z"
    },
    "id": "rdlsXg7Dhbrd",
    "papermill": {
     "duration": 0.034609,
     "end_time": "2024-05-12T17:28:41.214492",
     "exception": false,
     "start_time": "2024-05-12T17:28:41.179883",
     "status": "completed"
    },
    "tags": []
   },
   "outputs": [
    {
     "data": {
      "text/plain": [
       "TtestResult(statistic=6.866800855655372, pvalue=6.797387473030518e-12, df=16675.48547403633)"
      ]
     },
     "execution_count": 5,
     "metadata": {},
     "output_type": "execute_result"
    }
   ],
   "source": [
    "#hypothesis test, A/B test\n",
    "#significance level\n",
    "\n",
    "credit_card = taxi_data[taxi_data['payment_type'] == 1]['fare_amount']\n",
    "cash = taxi_data[taxi_data['payment_type'] == 2]['fare_amount']\n",
    "stats.ttest_ind(a=credit_card, b=cash, equal_var=False)"
   ]
  },
  {
   "cell_type": "markdown",
   "id": "f77407e3",
   "metadata": {
    "papermill": {
     "duration": 0.009431,
     "end_time": "2024-05-12T17:28:41.233672",
     "exception": false,
     "start_time": "2024-05-12T17:28:41.224241",
     "status": "completed"
    },
    "tags": []
   },
   "source": [
    "1. **Test Statistic (t-value):**\n",
    "    - The test statistic (t-value) is approximately 6.87.\n",
    "    - This value represents how many standard errors the sample mean difference is away from the hypothesized population mean difference (under the null hypothesis).\n",
    "    - In other words, it quantifies the difference between the means of the two samples.\n",
    "\n",
    "2. **p-value:**\n",
    "    - The p-value is approximately 6.80 × 10⁻¹² (or 0.0000000000068).\n",
    "    - The p-value indicates the probability of observing a test statistic as extreme as the one obtained, assuming the null hypothesis is true.\n",
    "    - A very small p-value suggests strong evidence against the null hypothesis.\n",
    "\n",
    "3. **Degrees of Freedom (df):**\n",
    "    - The degrees of freedom for this t-test are approximately 16675.49.\n",
    "    - Degrees of freedom account for the variability in your data and affect the shape of the t-distribution.\n",
    "\n",
    "4. **Interpretation:**\n",
    "    - Since the p-value is extremely small (much less than the common significance level of 0.05), we reject the null hypothesis.\n",
    "    - Therefore, there is strong evidence to suggest that the means of your two samples are significantly different.\n",
    "\n",
    "5. **Conclusion:**\n",
    "    - Based on this t-test, you can conclude that there is a statistically significant difference between the groups represented by samples `a` and `b`. \n",
    "    \n",
    "    We conclude that there is a statistically significant difference in the average fare amount between customers who use credit cards and customers who use cash."
   ]
  },
  {
   "cell_type": "markdown",
   "id": "793d147a",
   "metadata": {
    "id": "Ab4e-W3mzX6r",
    "papermill": {
     "duration": 0.010266,
     "end_time": "2024-05-12T17:28:41.255198",
     "exception": false,
     "start_time": "2024-05-12T17:28:41.244932",
     "status": "completed"
    },
    "tags": []
   },
   "source": [
    "\n",
    "## PACE: **Execute**"
   ]
  },
  {
   "cell_type": "markdown",
   "id": "70d26ea6",
   "metadata": {
    "id": "h1PRfiD3hcwE",
    "papermill": {
     "duration": 0.009765,
     "end_time": "2024-05-12T17:28:41.274740",
     "exception": false,
     "start_time": "2024-05-12T17:28:41.264975",
     "status": "completed"
    },
    "tags": []
   },
   "source": [
    "### Task 4. Communicate insights with stakeholders"
   ]
  },
  {
   "cell_type": "markdown",
   "id": "e9ebd84e",
   "metadata": {
    "id": "ItreFaZKhvVw",
    "papermill": {
     "duration": 0.010295,
     "end_time": "2024-05-12T17:28:41.295548",
     "exception": false,
     "start_time": "2024-05-12T17:28:41.285253",
     "status": "completed"
    },
    "tags": []
   },
   "source": [
    "*In conclusion, ask yourself the following questions:*\n",
    "\n",
    "1. What business insight(s) can you draw from the result of your hypothesis test?\n",
    "2. Consider why this A/B test project might not be realistic, and what assumptions had to be made for this educational project."
   ]
  },
  {
   "cell_type": "markdown",
   "id": "d9baaa73",
   "metadata": {
    "id": "-CgNingVY4Bw",
    "papermill": {
     "duration": 0.009598,
     "end_time": "2024-05-12T17:28:41.315933",
     "exception": false,
     "start_time": "2024-05-12T17:28:41.306335",
     "status": "completed"
    },
    "tags": []
   },
   "source": [
    "1.   The key business insight is that encouraging customers to pay with credit cards can generate more revenue for taxi cab drivers. \n",
    "\n",
    "2.   This project requires an assumption that passengers were forced to pay one way or the other, and that once informed of this requirement, they always complied with it. The data was not collected this way; so, an assumption had to be made to randomly group data entries to perform an A/B test. This dataset does not account for other likely explanations. For example, riders might not carry lots of cash, so it's easier to pay for longer/farther trips with a credit card. In other words, it's far more likely that fare amount determines payment type, rather than vice versa. "
   ]
  }
 ],
 "metadata": {
  "colab": {
   "collapsed_sections": [],
   "provenance": []
  },
  "kaggle": {
   "accelerator": "none",
   "dataSources": [
    {
     "datasetId": 4115721,
     "sourceId": 7163213,
     "sourceType": "datasetVersion"
    }
   ],
   "dockerImageVersionId": 30698,
   "isGpuEnabled": false,
   "isInternetEnabled": true,
   "language": "python",
   "sourceType": "notebook"
  },
  "kernelspec": {
   "display_name": "Python 3",
   "language": "python",
   "name": "python3"
  },
  "language_info": {
   "codemirror_mode": {
    "name": "ipython",
    "version": 3
   },
   "file_extension": ".py",
   "mimetype": "text/x-python",
   "name": "python",
   "nbconvert_exporter": "python",
   "pygments_lexer": "ipython3",
   "version": "3.10.13"
  },
  "papermill": {
   "default_parameters": {},
   "duration": 7.224386,
   "end_time": "2024-05-12T17:28:41.950659",
   "environment_variables": {},
   "exception": null,
   "input_path": "__notebook__.ipynb",
   "output_path": "__notebook__.ipynb",
   "parameters": {},
   "start_time": "2024-05-12T17:28:34.726273",
   "version": "2.5.0"
  }
 },
 "nbformat": 4,
 "nbformat_minor": 5
}
